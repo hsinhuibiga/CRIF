{
 "cells": [
  {
   "cell_type": "markdown",
   "metadata": {},
   "source": [
    "datasetC.txt"
   ]
  },
  {
   "cell_type": "code",
   "execution_count": 1,
   "metadata": {},
   "outputs": [],
   "source": [
    "import pandas as pd"
   ]
  },
  {
   "cell_type": "code",
   "execution_count": 2,
   "metadata": {},
   "outputs": [],
   "source": [
    "df=pd.read_csv(\"datasetC.txt\", delimiter='\\t')"
   ]
  },
  {
   "cell_type": "code",
   "execution_count": 3,
   "metadata": {},
   "outputs": [
    {
     "data": {
      "text/html": [
       "<div>\n",
       "<table border=\"1\" class=\"dataframe\">\n",
       "  <thead>\n",
       "    <tr style=\"text-align: right;\">\n",
       "      <th></th>\n",
       "      <th>ID|y</th>\n",
       "    </tr>\n",
       "  </thead>\n",
       "  <tbody>\n",
       "    <tr>\n",
       "      <th>0</th>\n",
       "      <td>d468a1f3b12a4fb28dfa957790c0688e|None</td>\n",
       "    </tr>\n",
       "    <tr>\n",
       "      <th>1</th>\n",
       "      <td>ed7cfb9186af49ec9a4671bbe0b494b0|articleC</td>\n",
       "    </tr>\n",
       "    <tr>\n",
       "      <th>2</th>\n",
       "      <td>bb5ce0943b044cf4a7161dbd47d993fa|articleB</td>\n",
       "    </tr>\n",
       "    <tr>\n",
       "      <th>3</th>\n",
       "      <td>e0aa58dd0d5a4dcab715c65f0b04aa31|articleA</td>\n",
       "    </tr>\n",
       "    <tr>\n",
       "      <th>4</th>\n",
       "      <td>eb8bf002681c4785822ae3c2c8afa00c|articleA</td>\n",
       "    </tr>\n",
       "    <tr>\n",
       "      <th>5</th>\n",
       "      <td>10fb6b0184364c38b15b9a0b1b785288|None</td>\n",
       "    </tr>\n",
       "    <tr>\n",
       "      <th>6</th>\n",
       "      <td>03e3a46edd60422095ffaeff47c2bd5b|None</td>\n",
       "    </tr>\n",
       "    <tr>\n",
       "      <th>7</th>\n",
       "      <td>3623fda9eb2f479a8f6abf02be22acb5|articleC</td>\n",
       "    </tr>\n",
       "    <tr>\n",
       "      <th>8</th>\n",
       "      <td>51640e4f1e1e4c14a98f0e2c9293fe5e|articleA</td>\n",
       "    </tr>\n",
       "    <tr>\n",
       "      <th>9</th>\n",
       "      <td>f62d772b73a5453a84f0cebbaf20887e|articleC</td>\n",
       "    </tr>\n",
       "  </tbody>\n",
       "</table>\n",
       "</div>"
      ],
      "text/plain": [
       "                                        ID|y\n",
       "0      d468a1f3b12a4fb28dfa957790c0688e|None\n",
       "1  ed7cfb9186af49ec9a4671bbe0b494b0|articleC\n",
       "2  bb5ce0943b044cf4a7161dbd47d993fa|articleB\n",
       "3  e0aa58dd0d5a4dcab715c65f0b04aa31|articleA\n",
       "4  eb8bf002681c4785822ae3c2c8afa00c|articleA\n",
       "5      10fb6b0184364c38b15b9a0b1b785288|None\n",
       "6      03e3a46edd60422095ffaeff47c2bd5b|None\n",
       "7  3623fda9eb2f479a8f6abf02be22acb5|articleC\n",
       "8  51640e4f1e1e4c14a98f0e2c9293fe5e|articleA\n",
       "9  f62d772b73a5453a84f0cebbaf20887e|articleC"
      ]
     },
     "execution_count": 3,
     "metadata": {},
     "output_type": "execute_result"
    }
   ],
   "source": [
    "df.head(10)"
   ]
  },
  {
   "cell_type": "code",
   "execution_count": 4,
   "metadata": {},
   "outputs": [],
   "source": [
    "df.columns=['ID']"
   ]
  },
  {
   "cell_type": "code",
   "execution_count": 5,
   "metadata": {},
   "outputs": [],
   "source": [
    "df=df['ID'].str.split('|',expand=True)"
   ]
  },
  {
   "cell_type": "code",
   "execution_count": 6,
   "metadata": {},
   "outputs": [
    {
     "data": {
      "text/html": [
       "<div>\n",
       "<table border=\"1\" class=\"dataframe\">\n",
       "  <thead>\n",
       "    <tr style=\"text-align: right;\">\n",
       "      <th></th>\n",
       "      <th>0</th>\n",
       "      <th>1</th>\n",
       "    </tr>\n",
       "  </thead>\n",
       "  <tbody>\n",
       "    <tr>\n",
       "      <th>0</th>\n",
       "      <td>d468a1f3b12a4fb28dfa957790c0688e</td>\n",
       "      <td>None</td>\n",
       "    </tr>\n",
       "    <tr>\n",
       "      <th>1</th>\n",
       "      <td>ed7cfb9186af49ec9a4671bbe0b494b0</td>\n",
       "      <td>articleC</td>\n",
       "    </tr>\n",
       "    <tr>\n",
       "      <th>2</th>\n",
       "      <td>bb5ce0943b044cf4a7161dbd47d993fa</td>\n",
       "      <td>articleB</td>\n",
       "    </tr>\n",
       "    <tr>\n",
       "      <th>3</th>\n",
       "      <td>e0aa58dd0d5a4dcab715c65f0b04aa31</td>\n",
       "      <td>articleA</td>\n",
       "    </tr>\n",
       "    <tr>\n",
       "      <th>4</th>\n",
       "      <td>eb8bf002681c4785822ae3c2c8afa00c</td>\n",
       "      <td>articleA</td>\n",
       "    </tr>\n",
       "    <tr>\n",
       "      <th>5</th>\n",
       "      <td>10fb6b0184364c38b15b9a0b1b785288</td>\n",
       "      <td>None</td>\n",
       "    </tr>\n",
       "    <tr>\n",
       "      <th>6</th>\n",
       "      <td>03e3a46edd60422095ffaeff47c2bd5b</td>\n",
       "      <td>None</td>\n",
       "    </tr>\n",
       "    <tr>\n",
       "      <th>7</th>\n",
       "      <td>3623fda9eb2f479a8f6abf02be22acb5</td>\n",
       "      <td>articleC</td>\n",
       "    </tr>\n",
       "    <tr>\n",
       "      <th>8</th>\n",
       "      <td>51640e4f1e1e4c14a98f0e2c9293fe5e</td>\n",
       "      <td>articleA</td>\n",
       "    </tr>\n",
       "    <tr>\n",
       "      <th>9</th>\n",
       "      <td>f62d772b73a5453a84f0cebbaf20887e</td>\n",
       "      <td>articleC</td>\n",
       "    </tr>\n",
       "  </tbody>\n",
       "</table>\n",
       "</div>"
      ],
      "text/plain": [
       "                                  0         1\n",
       "0  d468a1f3b12a4fb28dfa957790c0688e      None\n",
       "1  ed7cfb9186af49ec9a4671bbe0b494b0  articleC\n",
       "2  bb5ce0943b044cf4a7161dbd47d993fa  articleB\n",
       "3  e0aa58dd0d5a4dcab715c65f0b04aa31  articleA\n",
       "4  eb8bf002681c4785822ae3c2c8afa00c  articleA\n",
       "5  10fb6b0184364c38b15b9a0b1b785288      None\n",
       "6  03e3a46edd60422095ffaeff47c2bd5b      None\n",
       "7  3623fda9eb2f479a8f6abf02be22acb5  articleC\n",
       "8  51640e4f1e1e4c14a98f0e2c9293fe5e  articleA\n",
       "9  f62d772b73a5453a84f0cebbaf20887e  articleC"
      ]
     },
     "execution_count": 6,
     "metadata": {},
     "output_type": "execute_result"
    }
   ],
   "source": [
    "df.head(10)"
   ]
  },
  {
   "cell_type": "code",
   "execution_count": 7,
   "metadata": {},
   "outputs": [
    {
     "name": "stdout",
     "output_type": "stream",
     "text": [
      "RangeIndex(start=0, stop=100000, step=1)\n"
     ]
    }
   ],
   "source": [
    "print(df.index)"
   ]
  },
  {
   "cell_type": "code",
   "execution_count": 8,
   "metadata": {},
   "outputs": [
    {
     "name": "stdout",
     "output_type": "stream",
     "text": [
      "RangeIndex(start=0, stop=2, step=1)\n"
     ]
    }
   ],
   "source": [
    "print(df.columns)"
   ]
  },
  {
   "cell_type": "code",
   "execution_count": 9,
   "metadata": {},
   "outputs": [
    {
     "name": "stdout",
     "output_type": "stream",
     "text": [
      "int64\n"
     ]
    }
   ],
   "source": [
    "print(df.columns.dtype)"
   ]
  },
  {
   "cell_type": "code",
   "execution_count": 10,
   "metadata": {},
   "outputs": [],
   "source": [
    "df.columns = df.columns.astype(\"object\")"
   ]
  },
  {
   "cell_type": "code",
   "execution_count": 11,
   "metadata": {},
   "outputs": [
    {
     "name": "stdout",
     "output_type": "stream",
     "text": [
      "object\n"
     ]
    }
   ],
   "source": [
    "print(df.columns.dtype)"
   ]
  },
  {
   "cell_type": "code",
   "execution_count": 12,
   "metadata": {},
   "outputs": [],
   "source": [
    "df1=df.rename(columns={'0':'ID', '1':'product'})"
   ]
  },
  {
   "cell_type": "code",
   "execution_count": 13,
   "metadata": {},
   "outputs": [
    {
     "data": {
      "text/html": [
       "<div>\n",
       "<table border=\"1\" class=\"dataframe\">\n",
       "  <thead>\n",
       "    <tr style=\"text-align: right;\">\n",
       "      <th></th>\n",
       "      <th>0</th>\n",
       "      <th>1</th>\n",
       "    </tr>\n",
       "  </thead>\n",
       "  <tbody>\n",
       "    <tr>\n",
       "      <th>0</th>\n",
       "      <td>d468a1f3b12a4fb28dfa957790c0688e</td>\n",
       "      <td>None</td>\n",
       "    </tr>\n",
       "    <tr>\n",
       "      <th>1</th>\n",
       "      <td>ed7cfb9186af49ec9a4671bbe0b494b0</td>\n",
       "      <td>articleC</td>\n",
       "    </tr>\n",
       "    <tr>\n",
       "      <th>2</th>\n",
       "      <td>bb5ce0943b044cf4a7161dbd47d993fa</td>\n",
       "      <td>articleB</td>\n",
       "    </tr>\n",
       "    <tr>\n",
       "      <th>3</th>\n",
       "      <td>e0aa58dd0d5a4dcab715c65f0b04aa31</td>\n",
       "      <td>articleA</td>\n",
       "    </tr>\n",
       "    <tr>\n",
       "      <th>4</th>\n",
       "      <td>eb8bf002681c4785822ae3c2c8afa00c</td>\n",
       "      <td>articleA</td>\n",
       "    </tr>\n",
       "    <tr>\n",
       "      <th>5</th>\n",
       "      <td>10fb6b0184364c38b15b9a0b1b785288</td>\n",
       "      <td>None</td>\n",
       "    </tr>\n",
       "    <tr>\n",
       "      <th>6</th>\n",
       "      <td>03e3a46edd60422095ffaeff47c2bd5b</td>\n",
       "      <td>None</td>\n",
       "    </tr>\n",
       "    <tr>\n",
       "      <th>7</th>\n",
       "      <td>3623fda9eb2f479a8f6abf02be22acb5</td>\n",
       "      <td>articleC</td>\n",
       "    </tr>\n",
       "    <tr>\n",
       "      <th>8</th>\n",
       "      <td>51640e4f1e1e4c14a98f0e2c9293fe5e</td>\n",
       "      <td>articleA</td>\n",
       "    </tr>\n",
       "    <tr>\n",
       "      <th>9</th>\n",
       "      <td>f62d772b73a5453a84f0cebbaf20887e</td>\n",
       "      <td>articleC</td>\n",
       "    </tr>\n",
       "  </tbody>\n",
       "</table>\n",
       "</div>"
      ],
      "text/plain": [
       "                                  0         1\n",
       "0  d468a1f3b12a4fb28dfa957790c0688e      None\n",
       "1  ed7cfb9186af49ec9a4671bbe0b494b0  articleC\n",
       "2  bb5ce0943b044cf4a7161dbd47d993fa  articleB\n",
       "3  e0aa58dd0d5a4dcab715c65f0b04aa31  articleA\n",
       "4  eb8bf002681c4785822ae3c2c8afa00c  articleA\n",
       "5  10fb6b0184364c38b15b9a0b1b785288      None\n",
       "6  03e3a46edd60422095ffaeff47c2bd5b      None\n",
       "7  3623fda9eb2f479a8f6abf02be22acb5  articleC\n",
       "8  51640e4f1e1e4c14a98f0e2c9293fe5e  articleA\n",
       "9  f62d772b73a5453a84f0cebbaf20887e  articleC"
      ]
     },
     "execution_count": 13,
     "metadata": {},
     "output_type": "execute_result"
    }
   ],
   "source": [
    "df1.head(10)"
   ]
  },
  {
   "cell_type": "code",
   "execution_count": 14,
   "metadata": {},
   "outputs": [],
   "source": [
    "df1=df1.rename(columns={0:'ID', 1:'product'})"
   ]
  },
  {
   "cell_type": "code",
   "execution_count": 15,
   "metadata": {},
   "outputs": [
    {
     "data": {
      "text/html": [
       "<div>\n",
       "<table border=\"1\" class=\"dataframe\">\n",
       "  <thead>\n",
       "    <tr style=\"text-align: right;\">\n",
       "      <th></th>\n",
       "      <th>ID</th>\n",
       "      <th>product</th>\n",
       "    </tr>\n",
       "  </thead>\n",
       "  <tbody>\n",
       "    <tr>\n",
       "      <th>0</th>\n",
       "      <td>d468a1f3b12a4fb28dfa957790c0688e</td>\n",
       "      <td>None</td>\n",
       "    </tr>\n",
       "    <tr>\n",
       "      <th>1</th>\n",
       "      <td>ed7cfb9186af49ec9a4671bbe0b494b0</td>\n",
       "      <td>articleC</td>\n",
       "    </tr>\n",
       "    <tr>\n",
       "      <th>2</th>\n",
       "      <td>bb5ce0943b044cf4a7161dbd47d993fa</td>\n",
       "      <td>articleB</td>\n",
       "    </tr>\n",
       "    <tr>\n",
       "      <th>3</th>\n",
       "      <td>e0aa58dd0d5a4dcab715c65f0b04aa31</td>\n",
       "      <td>articleA</td>\n",
       "    </tr>\n",
       "    <tr>\n",
       "      <th>4</th>\n",
       "      <td>eb8bf002681c4785822ae3c2c8afa00c</td>\n",
       "      <td>articleA</td>\n",
       "    </tr>\n",
       "    <tr>\n",
       "      <th>5</th>\n",
       "      <td>10fb6b0184364c38b15b9a0b1b785288</td>\n",
       "      <td>None</td>\n",
       "    </tr>\n",
       "    <tr>\n",
       "      <th>6</th>\n",
       "      <td>03e3a46edd60422095ffaeff47c2bd5b</td>\n",
       "      <td>None</td>\n",
       "    </tr>\n",
       "    <tr>\n",
       "      <th>7</th>\n",
       "      <td>3623fda9eb2f479a8f6abf02be22acb5</td>\n",
       "      <td>articleC</td>\n",
       "    </tr>\n",
       "    <tr>\n",
       "      <th>8</th>\n",
       "      <td>51640e4f1e1e4c14a98f0e2c9293fe5e</td>\n",
       "      <td>articleA</td>\n",
       "    </tr>\n",
       "    <tr>\n",
       "      <th>9</th>\n",
       "      <td>f62d772b73a5453a84f0cebbaf20887e</td>\n",
       "      <td>articleC</td>\n",
       "    </tr>\n",
       "  </tbody>\n",
       "</table>\n",
       "</div>"
      ],
      "text/plain": [
       "                                 ID   product\n",
       "0  d468a1f3b12a4fb28dfa957790c0688e      None\n",
       "1  ed7cfb9186af49ec9a4671bbe0b494b0  articleC\n",
       "2  bb5ce0943b044cf4a7161dbd47d993fa  articleB\n",
       "3  e0aa58dd0d5a4dcab715c65f0b04aa31  articleA\n",
       "4  eb8bf002681c4785822ae3c2c8afa00c  articleA\n",
       "5  10fb6b0184364c38b15b9a0b1b785288      None\n",
       "6  03e3a46edd60422095ffaeff47c2bd5b      None\n",
       "7  3623fda9eb2f479a8f6abf02be22acb5  articleC\n",
       "8  51640e4f1e1e4c14a98f0e2c9293fe5e  articleA\n",
       "9  f62d772b73a5453a84f0cebbaf20887e  articleC"
      ]
     },
     "execution_count": 15,
     "metadata": {},
     "output_type": "execute_result"
    }
   ],
   "source": [
    "df1.head(10)"
   ]
  },
  {
   "cell_type": "code",
   "execution_count": null,
   "metadata": {},
   "outputs": [],
   "source": []
  }
 ],
 "metadata": {
  "kernelspec": {
   "display_name": "Python 3",
   "language": "python",
   "name": "python3"
  },
  "language_info": {
   "codemirror_mode": {
    "name": "ipython",
    "version": 3
   },
   "file_extension": ".py",
   "mimetype": "text/x-python",
   "name": "python",
   "nbconvert_exporter": "python",
   "pygments_lexer": "ipython3",
   "version": "3.6.7"
  }
 },
 "nbformat": 4,
 "nbformat_minor": 2
}
